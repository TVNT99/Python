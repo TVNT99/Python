{
 "cells": [
  {
   "cell_type": "code",
   "execution_count": 22,
   "id": "2f9fd778",
   "metadata": {},
   "outputs": [
    {
     "name": "stdout",
     "output_type": "stream",
     "text": [
      "address: Da Lat\n",
      "birth: 10/07/99\n",
      "age: 23\n",
      "name: Tin\n",
      "phone: 0918262515\n",
      "My name is Tin and I am 23 years old\n"
     ]
    }
   ],
   "source": [
    "address = 'Da Lat'\n",
    "birth = '10/07/99'\n",
    "age = 23\n",
    "name = 'Tin'\n",
    "phone = '0918262515'\n",
    "print('address: ' + address)\n",
    "print('birth: ' + birth)\n",
    "print('age: ' + str(age))\n",
    "print('name: ' + name)\n",
    "print('phone: ' + str(phone))\n",
    "print('My name is', name,  'and I am', age, 'years old')\n"
   ]
  },
  {
   "cell_type": "code",
   "execution_count": 23,
   "id": "d089ccc2",
   "metadata": {},
   "outputs": [
    {
     "name": "stdout",
     "output_type": "stream",
     "text": [
      "My name is Tin and I am 23 years old\n",
      "My name is--Tin--and I am--23--years old\n"
     ]
    }
   ],
   "source": [
    "print('My name is', name,  'and I am', age, 'years old')\n",
    "print('My name is', name,  'and I am', age, 'years old', sep='--')"
   ]
  },
  {
   "cell_type": "code",
   "execution_count": 25,
   "id": "9b4b6aad",
   "metadata": {},
   "outputs": [
    {
     "name": "stdout",
     "output_type": "stream",
     "text": [
      "My name is--Tin--and I am 23 years old\n"
     ]
    }
   ],
   "source": [
    "print(f\"My name is--{name}--and I am {age} years old\")"
   ]
  },
  {
   "cell_type": "code",
   "execution_count": 27,
   "id": "a4e309f4",
   "metadata": {},
   "outputs": [
    {
     "name": "stdout",
     "output_type": "stream",
     "text": [
      "My name is Tin. I'm 23 years old. I live in Da Lat. My phone number is 0918262515\n"
     ]
    }
   ],
   "source": [
    "print(\"My name is\", name, end=\". \")\n",
    "print(\"I'm\", age, \"years old\", end=\". \")\n",
    "print(\"I live in\", address, end=\". \")\n",
    "print(\"My phone number is\", phone)"
   ]
  },
  {
   "cell_type": "code",
   "execution_count": 51,
   "id": "4092040e",
   "metadata": {},
   "outputs": [
    {
     "name": "stdout",
     "output_type": "stream",
     "text": [
      "**************************\n",
      "*    Name: Tin           *\n",
      "*    Age: 23             *\n",
      "*    City: Da Lat        *\n",
      "*    Phone: 0918262515   *\n",
      "**************************\n"
     ]
    }
   ],
   "source": [
    "print(\"**************************\")\n",
    "print(\"*   \", \"Name:\", name, \"          *\")\n",
    "print('*   ', \"Age:\", age, \"            *\")\n",
    "print('*   ', \"City:\", address, \"       *\")\n",
    "print(\"*    \", \"Phone: \", phone, \"   *\", sep=\"\")\n",
    "print(\"**************************\")"
   ]
  },
  {
   "cell_type": "code",
   "execution_count": 64,
   "id": "9212a694",
   "metadata": {},
   "outputs": [
    {
     "name": "stdout",
     "output_type": "stream",
     "text": [
      "*********************************\n",
      "*\tName:\tTin\t\t*\n",
      "*\tAge:\t23\t\t*\n",
      "*\tCity:\tDa Lat\t\t*\n",
      "*\tPhone:\t0918262515\t*\n",
      "*********************************\n"
     ]
    }
   ],
   "source": [
    "print(\"*********************************\")\n",
    "print(f\"*\\tName:\\t{name}\\t\\t*\")\n",
    "print(f\"*\\tAge:\\t{age}\\t\\t*\")\n",
    "print(f'*\\tCity:\\t{address}\\t\\t*')\n",
    "print(f'*\\tPhone:\\t{phone}\\t*')\n",
    "print(\"*********************************\")"
   ]
  },
  {
   "cell_type": "code",
   "execution_count": 79,
   "id": "0b273e6f",
   "metadata": {},
   "outputs": [
    {
     "name": "stdout",
     "output_type": "stream",
     "text": [
      "My name is \"Tin\" \n"
     ]
    }
   ],
   "source": [
    "\n",
    "print(f'My name is \"{name}\" ')\n",
    "\n"
   ]
  }
 ],
 "metadata": {
  "kernelspec": {
   "display_name": "Python 3 (ipykernel)",
   "language": "python",
   "name": "python3"
  },
  "language_info": {
   "codemirror_mode": {
    "name": "ipython",
    "version": 3
   },
   "file_extension": ".py",
   "mimetype": "text/x-python",
   "name": "python",
   "nbconvert_exporter": "python",
   "pygments_lexer": "ipython3",
   "version": "3.10.1"
  }
 },
 "nbformat": 4,
 "nbformat_minor": 5
}
